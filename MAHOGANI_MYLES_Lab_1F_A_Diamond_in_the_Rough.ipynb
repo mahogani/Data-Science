{
  "nbformat": 4,
  "nbformat_minor": 0,
  "metadata": {
    "colab": {
      "name": "MAHOGANI MYLES -  Lab 1F - A Diamond in the Rough.ipynb",
      "provenance": [],
      "collapsed_sections": []
    },
    "kernelspec": {
      "name": "python3",
      "display_name": "Python 3"
    }
  },
  "cells": [
    {
      "cell_type": "markdown",
      "metadata": {
        "id": "v6ST-0RDc6xS",
        "colab_type": "text"
      },
      "source": [
        "# George Westinghouse CTE High School: **Computer Science Department**\n",
        "\n",
        "Course: **Intro to Data Science in Python**\n"
      ]
    },
    {
      "cell_type": "markdown",
      "metadata": {
        "id": "QngFZqquc82P",
        "colab_type": "text"
      },
      "source": [
        "# **Lab 1F - Zooming Through Data**\n",
        "\n"
      ]
    },
    {
      "cell_type": "markdown",
      "metadata": {
        "id": "xi7-WBGOiOoL",
        "colab_type": "text"
      },
      "source": [
        "The first step for our analysis is to import our libraries"
      ]
    },
    {
      "cell_type": "code",
      "metadata": {
        "id": "53rkheHcc8NU",
        "colab_type": "code",
        "colab": {}
      },
      "source": [
        "import pandas as pd\n",
        "import matplotlib.pyplot as plt\n",
        "import seaborn as sns "
      ],
      "execution_count": 0,
      "outputs": []
    },
    {
      "cell_type": "markdown",
      "metadata": {
        "id": "f_IgPgi9iTkZ",
        "colab_type": "text"
      },
      "source": [
        "The next step is to import our dataset and assign it to a variable called **cdc**"
      ]
    },
    {
      "cell_type": "code",
      "metadata": {
        "id": "FwY39eM9dE0U",
        "colab_type": "code",
        "colab": {}
      },
      "source": [
        "#load the data and assign it to the variable cdc\n",
        "atu_dirty = pd.read_csv(\"https://raw.githubusercontent.com/nschettini/datasets/master/atu_dirty.csv\")"
      ],
      "execution_count": 0,
      "outputs": []
    },
    {
      "cell_type": "markdown",
      "metadata": {
        "id": "RwPF-S79gf_D",
        "colab_type": "text"
      },
      "source": [
        "# **Messy data? Get used to it**\n",
        "\n",
        "* Since lab 1, the data we've been using has been pretty clean.\n",
        "* Why do we call it clean?\n",
        " * Variables were named so we could understand what they were about.\n",
        " * There didn't seem to be any typos in the values.\n",
        " * Numerical variables were considered numbers.\n",
        " * Categorical variables were composed of categories.\n",
        "* Unfortunately, more often than not, data is messy until YOU clean it.\n",
        "* In this lab, we'll learn a few essentials for cleaning dirty data."
      ]
    },
    {
      "cell_type": "markdown",
      "metadata": {
        "id": "hp0byovYgykb",
        "colab_type": "text"
      },
      "source": [
        "# **Messy data?**\n",
        "\n",
        "* What do we mean by messy data?\n",
        "* Variables might have non-descriptive names\n",
        " * Var01, V2, a, ...\n",
        "* Categorical variables might have misspelled categories\n",
        " * \"blue\", \"Blue\", \"blu\", ...\n",
        "* Numerical variables might have been input incorrectly. For example, if we're talk about people's height in inches:\n",
        " * 64.7, 6.86, 676, ...\n",
        "* Numerical variables might be incorrectly coded as categorical variables (Or vice-versa)\n",
        " * \"64.7\", \"68.6\", \"67.6\""
      ]
    },
    {
      "cell_type": "markdown",
      "metadata": {
        "id": "V9DGsa8ghCK8",
        "colab_type": "text"
      },
      "source": [
        "# **The American Time Use Survey**\n",
        "\n",
        "* To show you what dirty data looks like, we'll check out the American Time Use Survey, or ATU survey.\n",
        "* What is ATU survey?\n",
        " * It's a survey conducted by the US government (Specifically the Bureau of Labor Statistics).\n",
        "* They survey thousands of people to find out exactly what activities they do throughout a single day.\n",
        "* These thousands of people combined together give an idea about how much time the typical person living in the US spends doing various activites."
      ]
    },
    {
      "cell_type": "markdown",
      "metadata": {
        "id": "DJ50jAhdhT6z",
        "colab_type": "text"
      },
      "source": [
        "**What is messy data? Give an example of messy data.**\n",
        "\n",
        "Messy data is .... .  An example of messy data is ... "
      ]
    },
    {
      "cell_type": "markdown",
      "metadata": {
        "id": "lYAZuvvVhc67",
        "colab_type": "text"
      },
      "source": [
        "# **Load and go:**\n",
        "\n",
        "**Type** the following commands into your cell below.  **Don't copy and paste.**\n",
        "\n",
        "`atu_dirty.head()`\n",
        "\n",
        "**Just by viewing the data, what parts of our ATU data do you think need cleaning?** \n",
        "\n",
        "Based on viewing only the data, I think the parts of the ATU data that need to be cleaned are ..."
      ]
    },
    {
      "cell_type": "code",
      "metadata": {
        "id": "m1fes8VZgfNL",
        "colab_type": "code",
        "outputId": "126a3abe-4f74-421f-8e4a-6bcb0559d8eb",
        "colab": {
          "base_uri": "https://localhost:8080/",
          "height": 204
        }
      },
      "source": [
        "atu_dirty.head()"
      ],
      "execution_count": 0,
      "outputs": [
        {
          "output_type": "execute_result",
          "data": {
            "text/html": [
              "<div>\n",
              "<style scoped>\n",
              "    .dataframe tbody tr th:only-of-type {\n",
              "        vertical-align: middle;\n",
              "    }\n",
              "\n",
              "    .dataframe tbody tr th {\n",
              "        vertical-align: top;\n",
              "    }\n",
              "\n",
              "    .dataframe thead th {\n",
              "        text-align: right;\n",
              "    }\n",
              "</style>\n",
              "<table border=\"1\" class=\"dataframe\">\n",
              "  <thead>\n",
              "    <tr style=\"text-align: right;\">\n",
              "      <th></th>\n",
              "      <th>Unnamed: 0</th>\n",
              "      <th>caseid</th>\n",
              "      <th>V1</th>\n",
              "      <th>V2</th>\n",
              "      <th>V3</th>\n",
              "      <th>V4</th>\n",
              "      <th>V5</th>\n",
              "      <th>V6</th>\n",
              "      <th>V7</th>\n",
              "    </tr>\n",
              "  </thead>\n",
              "  <tbody>\n",
              "    <tr>\n",
              "      <th>0</th>\n",
              "      <td>1</td>\n",
              "      <td>20160101160045</td>\n",
              "      <td>62</td>\n",
              "      <td>2</td>\n",
              "      <td>No answer</td>\n",
              "      <td>1</td>\n",
              "      <td>690</td>\n",
              "      <td>0</td>\n",
              "      <td>465</td>\n",
              "    </tr>\n",
              "    <tr>\n",
              "      <th>1</th>\n",
              "      <td>2</td>\n",
              "      <td>20160101160066</td>\n",
              "      <td>69</td>\n",
              "      <td>1</td>\n",
              "      <td>No answer</td>\n",
              "      <td>2</td>\n",
              "      <td>600</td>\n",
              "      <td>0</td>\n",
              "      <td>560</td>\n",
              "    </tr>\n",
              "    <tr>\n",
              "      <th>2</th>\n",
              "      <td>3</td>\n",
              "      <td>20160101160069</td>\n",
              "      <td>24</td>\n",
              "      <td>2</td>\n",
              "      <td>No answer</td>\n",
              "      <td>1</td>\n",
              "      <td>940</td>\n",
              "      <td>0</td>\n",
              "      <td>20</td>\n",
              "    </tr>\n",
              "    <tr>\n",
              "      <th>3</th>\n",
              "      <td>4</td>\n",
              "      <td>20160101160083</td>\n",
              "      <td>31</td>\n",
              "      <td>2</td>\n",
              "      <td>Part time</td>\n",
              "      <td>1</td>\n",
              "      <td>635</td>\n",
              "      <td>0</td>\n",
              "      <td>120</td>\n",
              "    </tr>\n",
              "    <tr>\n",
              "      <th>4</th>\n",
              "      <td>5</td>\n",
              "      <td>20160101160084</td>\n",
              "      <td>59</td>\n",
              "      <td>2</td>\n",
              "      <td>Part time</td>\n",
              "      <td>1</td>\n",
              "      <td>500</td>\n",
              "      <td>0</td>\n",
              "      <td>177</td>\n",
              "    </tr>\n",
              "  </tbody>\n",
              "</table>\n",
              "</div>"
            ],
            "text/plain": [
              "   Unnamed: 0          caseid  V1  V2         V3  V4   V5  V6   V7\n",
              "0           1  20160101160045  62   2  No answer   1  690   0  465\n",
              "1           2  20160101160066  69   1  No answer   2  600   0  560\n",
              "2           3  20160101160069  24   2  No answer   1  940   0   20\n",
              "3           4  20160101160083  31   2  Part time   1  635   0  120\n",
              "4           5  20160101160084  59   2  Part time   1  500   0  177"
            ]
          },
          "metadata": {
            "tags": []
          },
          "execution_count": 4
        }
      ]
    },
    {
      "cell_type": "markdown",
      "metadata": {
        "id": "0poA3OjSh0zj",
        "colab_type": "text"
      },
      "source": [
        "# **Description of ATU Variables**\n",
        "\n",
        "* The description of the actual variables:|\n",
        "\n",
        " * caseid: Anonymous ID of survey taker.\n",
        " * V1: The age of the respondent.\n",
        " * V2: The gender of the respondent.\n",
        " * V3: Whether the person is employed full-time or part-time.\n",
        " * V4: Whether the person has a physical difficulty.\n",
        " * V5: How long the person sleeps, in minutes.\n",
        " * V6: How long the survey taker spent on homework, in minutes.\n",
        " * V7: How long the respondent spent socializing, in minutes."
      ]
    },
    {
      "cell_type": "markdown",
      "metadata": {
        "id": "pn9ksgR7iPCb",
        "colab_type": "text"
      },
      "source": [
        "# **New name, same old data**\n",
        "\n",
        "* To fix the variable names, we need to assign a new set of names in place of the old ones.\n",
        " * Below is an example of the rename function:\n",
        "\n",
        "\n",
        "---\n",
        "` variable_name.rename(columns={'old_name': 'new_name', 'old_name':'new_name'})`\n",
        "---\n",
        "\n",
        "Use the example code and the variable information above to rename the rest of the variables in atu_dirty.  Save your updated dataset to a new variable, **atu_clean**.  atu_clean = variable_name.rename(columns.....)\n",
        "\n",
        " * Names should be short, contain no spaces and describe what the variable is related to. So use abbreviations to your heart's content.\n"
      ]
    },
    {
      "cell_type": "code",
      "metadata": {
        "id": "OTfaKKI_gTPb",
        "colab_type": "code",
        "outputId": "60ab8646-53f1-4cd8-ef0b-b6f0470f4469",
        "colab": {
          "base_uri": "https://localhost:8080/",
          "height": 419
        }
      },
      "source": [
        "atu_dirty.rename(columns={'V1':'Age','V2':'Gender','V3':'Employment','V4':'Phys_disablity','V5':'Sleep_time','V6':'Homework_time','V7':'Socializing'})\n"
      ],
      "execution_count": 0,
      "outputs": [
        {
          "output_type": "execute_result",
          "data": {
            "text/html": [
              "<div>\n",
              "<style scoped>\n",
              "    .dataframe tbody tr th:only-of-type {\n",
              "        vertical-align: middle;\n",
              "    }\n",
              "\n",
              "    .dataframe tbody tr th {\n",
              "        vertical-align: top;\n",
              "    }\n",
              "\n",
              "    .dataframe thead th {\n",
              "        text-align: right;\n",
              "    }\n",
              "</style>\n",
              "<table border=\"1\" class=\"dataframe\">\n",
              "  <thead>\n",
              "    <tr style=\"text-align: right;\">\n",
              "      <th></th>\n",
              "      <th>Unnamed: 0</th>\n",
              "      <th>caseid</th>\n",
              "      <th>Age</th>\n",
              "      <th>Gender</th>\n",
              "      <th>Employment</th>\n",
              "      <th>Phys_disablity</th>\n",
              "      <th>Sleep_time</th>\n",
              "      <th>Homework_time</th>\n",
              "      <th>Socializing</th>\n",
              "    </tr>\n",
              "  </thead>\n",
              "  <tbody>\n",
              "    <tr>\n",
              "      <th>0</th>\n",
              "      <td>1</td>\n",
              "      <td>20160101160045</td>\n",
              "      <td>62</td>\n",
              "      <td>2</td>\n",
              "      <td>No answer</td>\n",
              "      <td>1</td>\n",
              "      <td>690</td>\n",
              "      <td>0</td>\n",
              "      <td>465</td>\n",
              "    </tr>\n",
              "    <tr>\n",
              "      <th>1</th>\n",
              "      <td>2</td>\n",
              "      <td>20160101160066</td>\n",
              "      <td>69</td>\n",
              "      <td>1</td>\n",
              "      <td>No answer</td>\n",
              "      <td>2</td>\n",
              "      <td>600</td>\n",
              "      <td>0</td>\n",
              "      <td>560</td>\n",
              "    </tr>\n",
              "    <tr>\n",
              "      <th>2</th>\n",
              "      <td>3</td>\n",
              "      <td>20160101160069</td>\n",
              "      <td>24</td>\n",
              "      <td>2</td>\n",
              "      <td>No answer</td>\n",
              "      <td>1</td>\n",
              "      <td>940</td>\n",
              "      <td>0</td>\n",
              "      <td>20</td>\n",
              "    </tr>\n",
              "    <tr>\n",
              "      <th>3</th>\n",
              "      <td>4</td>\n",
              "      <td>20160101160083</td>\n",
              "      <td>31</td>\n",
              "      <td>2</td>\n",
              "      <td>Part time</td>\n",
              "      <td>1</td>\n",
              "      <td>635</td>\n",
              "      <td>0</td>\n",
              "      <td>120</td>\n",
              "    </tr>\n",
              "    <tr>\n",
              "      <th>4</th>\n",
              "      <td>5</td>\n",
              "      <td>20160101160084</td>\n",
              "      <td>59</td>\n",
              "      <td>2</td>\n",
              "      <td>Part time</td>\n",
              "      <td>1</td>\n",
              "      <td>500</td>\n",
              "      <td>0</td>\n",
              "      <td>177</td>\n",
              "    </tr>\n",
              "    <tr>\n",
              "      <th>...</th>\n",
              "      <td>...</td>\n",
              "      <td>...</td>\n",
              "      <td>...</td>\n",
              "      <td>...</td>\n",
              "      <td>...</td>\n",
              "      <td>...</td>\n",
              "      <td>...</td>\n",
              "      <td>...</td>\n",
              "      <td>...</td>\n",
              "    </tr>\n",
              "    <tr>\n",
              "      <th>10488</th>\n",
              "      <td>10489</td>\n",
              "      <td>20161212162307</td>\n",
              "      <td>52</td>\n",
              "      <td>2</td>\n",
              "      <td>No answer</td>\n",
              "      <td>1</td>\n",
              "      <td>520</td>\n",
              "      <td>0</td>\n",
              "      <td>585</td>\n",
              "    </tr>\n",
              "    <tr>\n",
              "      <th>10489</th>\n",
              "      <td>10490</td>\n",
              "      <td>20161212162357</td>\n",
              "      <td>69</td>\n",
              "      <td>1</td>\n",
              "      <td>No answer</td>\n",
              "      <td>1</td>\n",
              "      <td>645</td>\n",
              "      <td>0</td>\n",
              "      <td>625</td>\n",
              "    </tr>\n",
              "    <tr>\n",
              "      <th>10490</th>\n",
              "      <td>10491</td>\n",
              "      <td>20161212162426</td>\n",
              "      <td>28</td>\n",
              "      <td>1</td>\n",
              "      <td>Full time</td>\n",
              "      <td>1</td>\n",
              "      <td>402</td>\n",
              "      <td>0</td>\n",
              "      <td>20</td>\n",
              "    </tr>\n",
              "    <tr>\n",
              "      <th>10491</th>\n",
              "      <td>10492</td>\n",
              "      <td>20161212162456</td>\n",
              "      <td>80</td>\n",
              "      <td>2</td>\n",
              "      <td>No answer</td>\n",
              "      <td>2</td>\n",
              "      <td>420</td>\n",
              "      <td>0</td>\n",
              "      <td>979</td>\n",
              "    </tr>\n",
              "    <tr>\n",
              "      <th>10492</th>\n",
              "      <td>10493</td>\n",
              "      <td>20161212162509</td>\n",
              "      <td>16</td>\n",
              "      <td>2</td>\n",
              "      <td>No answer</td>\n",
              "      <td>1</td>\n",
              "      <td>910</td>\n",
              "      <td>0</td>\n",
              "      <td>430</td>\n",
              "    </tr>\n",
              "  </tbody>\n",
              "</table>\n",
              "<p>10493 rows × 9 columns</p>\n",
              "</div>"
            ],
            "text/plain": [
              "       Unnamed: 0          caseid  Age  ...  Sleep_time Homework_time  Socializing\n",
              "0               1  20160101160045   62  ...         690             0          465\n",
              "1               2  20160101160066   69  ...         600             0          560\n",
              "2               3  20160101160069   24  ...         940             0           20\n",
              "3               4  20160101160083   31  ...         635             0          120\n",
              "4               5  20160101160084   59  ...         500             0          177\n",
              "...           ...             ...  ...  ...         ...           ...          ...\n",
              "10488       10489  20161212162307   52  ...         520             0          585\n",
              "10489       10490  20161212162357   69  ...         645             0          625\n",
              "10490       10491  20161212162426   28  ...         402             0           20\n",
              "10491       10492  20161212162456   80  ...         420             0          979\n",
              "10492       10493  20161212162509   16  ...         910             0          430\n",
              "\n",
              "[10493 rows x 9 columns]"
            ]
          },
          "metadata": {
            "tags": []
          },
          "execution_count": 13
        }
      ]
    },
    {
      "cell_type": "markdown",
      "metadata": {
        "id": "J739Pzhljr4L",
        "colab_type": "text"
      },
      "source": [
        "**Now that you've modified the column names, call your dataset and see what all your hard work has done!**\n",
        "\n",
        "variable_name.head(3)\n"
      ]
    },
    {
      "cell_type": "code",
      "metadata": {
        "id": "job3I317iqNU",
        "colab_type": "code",
        "outputId": "3616b016-5fc1-4447-b6a1-77ad18a2eca0",
        "colab": {
          "base_uri": "https://localhost:8080/",
          "height": 142
        }
      },
      "source": [
        "atu_dirty.head(3)"
      ],
      "execution_count": 0,
      "outputs": [
        {
          "output_type": "execute_result",
          "data": {
            "text/html": [
              "<div>\n",
              "<style scoped>\n",
              "    .dataframe tbody tr th:only-of-type {\n",
              "        vertical-align: middle;\n",
              "    }\n",
              "\n",
              "    .dataframe tbody tr th {\n",
              "        vertical-align: top;\n",
              "    }\n",
              "\n",
              "    .dataframe thead th {\n",
              "        text-align: right;\n",
              "    }\n",
              "</style>\n",
              "<table border=\"1\" class=\"dataframe\">\n",
              "  <thead>\n",
              "    <tr style=\"text-align: right;\">\n",
              "      <th></th>\n",
              "      <th>Unnamed: 0</th>\n",
              "      <th>caseid</th>\n",
              "      <th>Age</th>\n",
              "      <th>Gender</th>\n",
              "      <th>Employment</th>\n",
              "      <th>Phys_disablity</th>\n",
              "      <th>Sleep_time</th>\n",
              "      <th>Homework_time</th>\n",
              "      <th>Socializing</th>\n",
              "    </tr>\n",
              "  </thead>\n",
              "  <tbody>\n",
              "    <tr>\n",
              "      <th>0</th>\n",
              "      <td>1</td>\n",
              "      <td>20160101160045</td>\n",
              "      <td>62</td>\n",
              "      <td>2</td>\n",
              "      <td>No answer</td>\n",
              "      <td>1</td>\n",
              "      <td>690</td>\n",
              "      <td>0</td>\n",
              "      <td>465</td>\n",
              "    </tr>\n",
              "    <tr>\n",
              "      <th>1</th>\n",
              "      <td>2</td>\n",
              "      <td>20160101160066</td>\n",
              "      <td>69</td>\n",
              "      <td>1</td>\n",
              "      <td>No answer</td>\n",
              "      <td>2</td>\n",
              "      <td>600</td>\n",
              "      <td>0</td>\n",
              "      <td>560</td>\n",
              "    </tr>\n",
              "    <tr>\n",
              "      <th>2</th>\n",
              "      <td>3</td>\n",
              "      <td>20160101160069</td>\n",
              "      <td>24</td>\n",
              "      <td>2</td>\n",
              "      <td>No answer</td>\n",
              "      <td>1</td>\n",
              "      <td>940</td>\n",
              "      <td>0</td>\n",
              "      <td>20</td>\n",
              "    </tr>\n",
              "  </tbody>\n",
              "</table>\n",
              "</div>"
            ],
            "text/plain": [
              "   Unnamed: 0          caseid  Age  ...  Sleep_time Homework_time  Socializing\n",
              "0           1  20160101160045   62  ...         690             0          465\n",
              "1           2  20160101160066   69  ...         600             0          560\n",
              "2           3  20160101160069   24  ...         940             0           20\n",
              "\n",
              "[3 rows x 9 columns]"
            ]
          },
          "metadata": {
            "tags": []
          },
          "execution_count": 16
        }
      ]
    },
    {
      "cell_type": "markdown",
      "metadata": {
        "id": "bIJjgiIZj99K",
        "colab_type": "text"
      },
      "source": [
        "**What happened?** \n",
        "\n",
        "The thing that happened is I called the variable atu_cleanand it showed the updated variables name that I entered"
      ]
    },
    {
      "cell_type": "markdown",
      "metadata": {
        "id": "mBksndTakHyi",
        "colab_type": "text"
      },
      "source": [
        "Copy and paste the code you TYPED into the green below.  This time, add a \"**,inplace=True**\" command after the last \"}\".  **Now what happens?  What does inplace=True do?**"
      ]
    },
    {
      "cell_type": "code",
      "metadata": {
        "id": "i5QzwWvyjDFx",
        "colab_type": "code",
        "colab": {}
      },
      "source": [
        "atu_dirty.rename(columns={'V1':'Age','V2':'Gender','V3':'Employment','V4':'Phys_disablity','V5':'Sleep_time','V6':'Homework_time','V7':'Socializing'},\n",
        "                 inplace=True)"
      ],
      "execution_count": 0,
      "outputs": []
    },
    {
      "cell_type": "markdown",
      "metadata": {
        "id": "fCdpDldrkik6",
        "colab_type": "text"
      },
      "source": [
        "#**Next up: Strings**\n",
        "\n",
        "* In programming, a string is sort of like a word.\n",
        " * It's a value made up of characters (i.e. letters)\n",
        "* The following are example of strings. Notice that each string has quotes before and after.\n",
        "\n",
        "\n",
        "\n",
        "```\n",
        "\"string\"\n",
        "\"A1B2c3\"\n",
        "\"Hot Cocoa\"\n",
        "\"0015\"\n",
        "```\n",
        "\n"
      ]
    },
    {
      "cell_type": "markdown",
      "metadata": {
        "id": "BujwCVAsku2K",
        "colab_type": "text"
      },
      "source": [
        "# **Numbers are words? (Sometimes)**\n",
        "\n",
        "* In some cases, Python will treat values that look like numbers as if they were strings.\n",
        "* Sometimes we do this on purpose.\n",
        " * For example, we can code Yes/No variables as \"1\"/\"0\".\n",
        "* Sometimes we don't mean for this to happen.\n",
        " * The number of siblings a person has should not be a string.\n",
        "* Look at the structure of your data and the variable descriptions from above\n",
        " * **Write down the variables that should be numeric but are improperly coded as\n",
        "strings or characters.**  You can also use the variable.info() command."
      ]
    },
    {
      "cell_type": "code",
      "metadata": {
        "id": "iOv6xltmkZsJ",
        "colab_type": "code",
        "colab": {}
      },
      "source": [
        ""
      ],
      "execution_count": 0,
      "outputs": []
    },
    {
      "cell_type": "markdown",
      "metadata": {
        "id": "-kiM69z9aloR",
        "colab_type": "text"
      },
      "source": [
        "# **Changing strings into numbers**\n",
        "\n",
        "* To fix this problem, we need to tell Python to think of our numeric variables as numeric variables.\n",
        "* We can do this with the as.numeric function.\n",
        " * An example using this function is below:\n",
        "\n",
        "` pd.to_numeric(\"3.14\")`\n",
        "\n",
        "Notice: We started with a string, \"3.14\", but to_numeric() was able to turn it back into a number."
      ]
    },
    {
      "cell_type": "markdown",
      "metadata": {
        "id": "Z_4Uab_VbXKf",
        "colab_type": "text"
      },
      "source": [
        "# **Mutating in action**\n",
        "\n",
        "* Look at the variables you thought should be numeric and select one. Then fill in the blanks below to see how we can correctly code it as a number:\n",
        "\n",
        "The best way to convert one or more columns of a DataFrame to numeric values is to use **pd.to_numeric()**.\n",
        "\n",
        "This function will try to change non-numeric objects (such as strings) into integers or floating point numbers as appropriate.\n",
        "\n",
        "\n",
        "---\n",
        "`pd.to_numeric(atu_dirty['___'])`\n",
        "---\n",
        "---\n",
        "Convert one of the variables that should be numeric into numeric using the pd.to_numeric() function\n"
      ]
    },
    {
      "cell_type": "code",
      "metadata": {
        "id": "eRPnpovSlCpT",
        "colab_type": "code",
        "outputId": "728ad84e-a4cc-4856-c790-d7cfd848b6e6",
        "colab": {
          "base_uri": "https://localhost:8080/",
          "height": 221
        }
      },
      "source": [
        "pd.to_numeric(atu_dirty['Age'])"
      ],
      "execution_count": 0,
      "outputs": [
        {
          "output_type": "execute_result",
          "data": {
            "text/plain": [
              "0        62\n",
              "1        69\n",
              "2        24\n",
              "3        31\n",
              "4        59\n",
              "         ..\n",
              "10488    52\n",
              "10489    69\n",
              "10490    28\n",
              "10491    80\n",
              "10492    16\n",
              "Name: Age, Length: 10493, dtype: int64"
            ]
          },
          "metadata": {
            "tags": []
          },
          "execution_count": 17
        }
      ]
    },
    {
      "cell_type": "markdown",
      "metadata": {
        "id": "9JyDrUb-cuwM",
        "colab_type": "text"
      },
      "source": [
        "# **Deciphering Categorical Variables**\n",
        "\n",
        "* We mentioned earlier that we sometimes code categorical variables as numbers.\n",
        " * For example, our gender variable uses \"01\" and \"02\" for \"Male\" and \"Female\",\n",
        "respectively.\n",
        "\n",
        "* It's often much easier to analyze and interpret when we use more descriptive categories, such as\n",
        " * \"Male\" and \"Female\"."
      ]
    },
    {
      "cell_type": "markdown",
      "metadata": {
        "id": "QkESNJJleKrU",
        "colab_type": "text"
      },
      "source": [
        "# **Factors and Levels**\n",
        "\n",
        "* Python has a special name for categorical variables, called factors.\n",
        "* Python also has a special name for the different categories of a categorical variable.\n",
        " * The individual categories are called levels.\n",
        "\n",
        "* To see the levels of employment type:\n",
        "\n",
        "`atu_dirty['V3'].unique()`\n",
        "\n",
        "* **Use similar code as we used above to write down the levels for the three other factors in our data.**"
      ]
    },
    {
      "cell_type": "code",
      "metadata": {
        "id": "tsBtZ7aLh2Nh",
        "colab_type": "code",
        "outputId": "886f1c4a-6e2a-441c-ca1b-a349861b715d",
        "colab": {
          "base_uri": "https://localhost:8080/",
          "height": 85
        }
      },
      "source": [
        "atu_dirty['Age'].unique()"
      ],
      "execution_count": 0,
      "outputs": [
        {
          "output_type": "execute_result",
          "data": {
            "text/plain": [
              "array([62, 69, 24, 31, 59, 16, 43, 34, 63, 39, 35, 54, 40, 19, 76, 65, 70,\n",
              "       68, 36, 45, 50, 52, 26, 25, 74, 32, 22, 46, 17, 44, 53, 29, 58, 27,\n",
              "       56, 85, 75, 47, 18, 30, 20, 51, 49, 33, 37, 66, 61, 80, 73, 67, 48,\n",
              "       21, 55, 64, 60, 23, 57, 72, 41, 77, 42, 79, 28, 15, 71, 78, 38])"
            ]
          },
          "metadata": {
            "tags": []
          },
          "execution_count": 18
        }
      ]
    },
    {
      "cell_type": "markdown",
      "metadata": {
        "id": "jxb1xZisfSp3",
        "colab_type": "text"
      },
      "source": [
        "# **A level by any other name...**\n",
        "\n",
        "* If we know that '1' means 'Male' and '2' means 'Female' then we can use the following code to recode the levels of gender.\n",
        "* Type the following command into your console:\n",
        "\n",
        "`atu_dirty['___'].replace(2, 'Female',inplace=True)`\n",
        "\n",
        "\n",
        "This code is saying:\n",
        "\n",
        "* Replace my current version of atu_clean..\n",
        "* with a mutated one where ...\n",
        "* the gender variable's levels ...\n",
        "* have been recoded...\"\n",
        "* where \"1\" will now be \"Male\"...\n",
        "* and \"2\" will now be \"Female\".\n",
        "\n",
        "**Recode your gender variables to say Male and Female, rather than 1 and 2.**"
      ]
    },
    {
      "cell_type": "code",
      "metadata": {
        "id": "-czyS4lVa-gU",
        "colab_type": "code",
        "colab": {}
      },
      "source": [
        "atu_dirty['Age'].replace(1, 'Male', inplace=True)"
      ],
      "execution_count": 0,
      "outputs": []
    },
    {
      "cell_type": "code",
      "metadata": {
        "id": "om9et69ucBYd",
        "colab_type": "code",
        "colab": {}
      },
      "source": [
        "atu_dirty['Age'].replace(2, 'Female', inplace=True)"
      ],
      "execution_count": 0,
      "outputs": []
    },
    {
      "cell_type": "markdown",
      "metadata": {
        "id": "7F8CRRhIiMh9",
        "colab_type": "text"
      },
      "source": [
        "**Record the categorical variable about wheather the person surveyed had aphysical challenge or not.**  The coding is currently: \n",
        "\n",
        " * \"1\": Person surveyed did not have a physical challenge.\n",
        " * \"2\": Person surveyed did have a physical challenge.\n"
      ]
    },
    {
      "cell_type": "code",
      "metadata": {
        "id": "KpTBPOJDfq9A",
        "colab_type": "code",
        "colab": {}
      },
      "source": [
        "atu_dirty['Phys_disablity'].replace(1, 'Male', inplace=True)"
      ],
      "execution_count": 0,
      "outputs": []
    },
    {
      "cell_type": "code",
      "metadata": {
        "id": "eBPzfqdDiaim",
        "colab_type": "code",
        "colab": {}
      },
      "source": [
        "atu_dirty['Phys_disablity'].replace(2, 'Female', inplace=True)"
      ],
      "execution_count": 0,
      "outputs": []
    },
    {
      "cell_type": "markdown",
      "metadata": {
        "id": "_WGvwPVpihZr",
        "colab_type": "text"
      },
      "source": [
        "# **Finish it!**\n",
        "\n",
        "**Call your cleaned dataset.  Check to see if your variables are correct and \"Clean\".**"
      ]
    },
    {
      "cell_type": "code",
      "metadata": {
        "id": "afDaFb7yiqeV",
        "colab_type": "code",
        "outputId": "f3add49d-7d87-4f52-8a5b-366ee638c754",
        "colab": {
          "base_uri": "https://localhost:8080/",
          "height": 419
        }
      },
      "source": [
        "atu_dirty"
      ],
      "execution_count": 0,
      "outputs": [
        {
          "output_type": "execute_result",
          "data": {
            "text/html": [
              "<div>\n",
              "<style scoped>\n",
              "    .dataframe tbody tr th:only-of-type {\n",
              "        vertical-align: middle;\n",
              "    }\n",
              "\n",
              "    .dataframe tbody tr th {\n",
              "        vertical-align: top;\n",
              "    }\n",
              "\n",
              "    .dataframe thead th {\n",
              "        text-align: right;\n",
              "    }\n",
              "</style>\n",
              "<table border=\"1\" class=\"dataframe\">\n",
              "  <thead>\n",
              "    <tr style=\"text-align: right;\">\n",
              "      <th></th>\n",
              "      <th>Unnamed: 0</th>\n",
              "      <th>caseid</th>\n",
              "      <th>Age</th>\n",
              "      <th>Gender</th>\n",
              "      <th>Employment</th>\n",
              "      <th>Phys_disablity</th>\n",
              "      <th>Sleep_time</th>\n",
              "      <th>Homework_time</th>\n",
              "      <th>Socializing</th>\n",
              "    </tr>\n",
              "  </thead>\n",
              "  <tbody>\n",
              "    <tr>\n",
              "      <th>0</th>\n",
              "      <td>1</td>\n",
              "      <td>20160101160045</td>\n",
              "      <td>62</td>\n",
              "      <td>2</td>\n",
              "      <td>No answer</td>\n",
              "      <td>Male</td>\n",
              "      <td>690</td>\n",
              "      <td>0</td>\n",
              "      <td>465</td>\n",
              "    </tr>\n",
              "    <tr>\n",
              "      <th>1</th>\n",
              "      <td>2</td>\n",
              "      <td>20160101160066</td>\n",
              "      <td>69</td>\n",
              "      <td>1</td>\n",
              "      <td>No answer</td>\n",
              "      <td>Female</td>\n",
              "      <td>600</td>\n",
              "      <td>0</td>\n",
              "      <td>560</td>\n",
              "    </tr>\n",
              "    <tr>\n",
              "      <th>2</th>\n",
              "      <td>3</td>\n",
              "      <td>20160101160069</td>\n",
              "      <td>24</td>\n",
              "      <td>2</td>\n",
              "      <td>No answer</td>\n",
              "      <td>Male</td>\n",
              "      <td>940</td>\n",
              "      <td>0</td>\n",
              "      <td>20</td>\n",
              "    </tr>\n",
              "    <tr>\n",
              "      <th>3</th>\n",
              "      <td>4</td>\n",
              "      <td>20160101160083</td>\n",
              "      <td>31</td>\n",
              "      <td>2</td>\n",
              "      <td>Part time</td>\n",
              "      <td>Male</td>\n",
              "      <td>635</td>\n",
              "      <td>0</td>\n",
              "      <td>120</td>\n",
              "    </tr>\n",
              "    <tr>\n",
              "      <th>4</th>\n",
              "      <td>5</td>\n",
              "      <td>20160101160084</td>\n",
              "      <td>59</td>\n",
              "      <td>2</td>\n",
              "      <td>Part time</td>\n",
              "      <td>Male</td>\n",
              "      <td>500</td>\n",
              "      <td>0</td>\n",
              "      <td>177</td>\n",
              "    </tr>\n",
              "    <tr>\n",
              "      <th>...</th>\n",
              "      <td>...</td>\n",
              "      <td>...</td>\n",
              "      <td>...</td>\n",
              "      <td>...</td>\n",
              "      <td>...</td>\n",
              "      <td>...</td>\n",
              "      <td>...</td>\n",
              "      <td>...</td>\n",
              "      <td>...</td>\n",
              "    </tr>\n",
              "    <tr>\n",
              "      <th>10488</th>\n",
              "      <td>10489</td>\n",
              "      <td>20161212162307</td>\n",
              "      <td>52</td>\n",
              "      <td>2</td>\n",
              "      <td>No answer</td>\n",
              "      <td>Male</td>\n",
              "      <td>520</td>\n",
              "      <td>0</td>\n",
              "      <td>585</td>\n",
              "    </tr>\n",
              "    <tr>\n",
              "      <th>10489</th>\n",
              "      <td>10490</td>\n",
              "      <td>20161212162357</td>\n",
              "      <td>69</td>\n",
              "      <td>1</td>\n",
              "      <td>No answer</td>\n",
              "      <td>Male</td>\n",
              "      <td>645</td>\n",
              "      <td>0</td>\n",
              "      <td>625</td>\n",
              "    </tr>\n",
              "    <tr>\n",
              "      <th>10490</th>\n",
              "      <td>10491</td>\n",
              "      <td>20161212162426</td>\n",
              "      <td>28</td>\n",
              "      <td>1</td>\n",
              "      <td>Full time</td>\n",
              "      <td>Male</td>\n",
              "      <td>402</td>\n",
              "      <td>0</td>\n",
              "      <td>20</td>\n",
              "    </tr>\n",
              "    <tr>\n",
              "      <th>10491</th>\n",
              "      <td>10492</td>\n",
              "      <td>20161212162456</td>\n",
              "      <td>80</td>\n",
              "      <td>2</td>\n",
              "      <td>No answer</td>\n",
              "      <td>Female</td>\n",
              "      <td>420</td>\n",
              "      <td>0</td>\n",
              "      <td>979</td>\n",
              "    </tr>\n",
              "    <tr>\n",
              "      <th>10492</th>\n",
              "      <td>10493</td>\n",
              "      <td>20161212162509</td>\n",
              "      <td>16</td>\n",
              "      <td>2</td>\n",
              "      <td>No answer</td>\n",
              "      <td>Male</td>\n",
              "      <td>910</td>\n",
              "      <td>0</td>\n",
              "      <td>430</td>\n",
              "    </tr>\n",
              "  </tbody>\n",
              "</table>\n",
              "<p>10493 rows × 9 columns</p>\n",
              "</div>"
            ],
            "text/plain": [
              "       Unnamed: 0          caseid  Age  ...  Sleep_time Homework_time Socializing\n",
              "0               1  20160101160045   62  ...         690             0         465\n",
              "1               2  20160101160066   69  ...         600             0         560\n",
              "2               3  20160101160069   24  ...         940             0          20\n",
              "3               4  20160101160083   31  ...         635             0         120\n",
              "4               5  20160101160084   59  ...         500             0         177\n",
              "...           ...             ...  ...  ...         ...           ...         ...\n",
              "10488       10489  20161212162307   52  ...         520             0         585\n",
              "10489       10490  20161212162357   69  ...         645             0         625\n",
              "10490       10491  20161212162426   28  ...         402             0          20\n",
              "10491       10492  20161212162456   80  ...         420             0         979\n",
              "10492       10493  20161212162509   16  ...         910             0         430\n",
              "\n",
              "[10493 rows x 9 columns]"
            ]
          },
          "metadata": {
            "tags": []
          },
          "execution_count": 23
        }
      ]
    }
  ]
}